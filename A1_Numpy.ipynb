{
  "nbformat": 4,
  "nbformat_minor": 0,
  "metadata": {
    "colab": {
      "provenance": [],
      "collapsed_sections": [],
      "authorship_tag": "ABX9TyPMXv6isRSFWykyW9a6J6xw"
    },
    "kernelspec": {
      "name": "python3",
      "display_name": "Python 3"
    },
    "language_info": {
      "name": "python"
    }
  },
  "cells": [
    {
      "cell_type": "markdown",
      "source": [
        "* **Submitted by:**\n",
        "* **Lakshay Singla**\n",
        "* **102003371**\n",
        "* **3CO15**\n"
      ],
      "metadata": {
        "id": "0r4IWo9Roe0a"
      }
    },
    {
      "cell_type": "markdown",
      "source": [
        "**ASSIGNMENT 1**"
      ],
      "metadata": {
        "id": "S-ZRxYboQwNM"
      }
    },
    {
      "cell_type": "markdown",
      "source": [
        "**Q1(a): Reverse the NumPy array: arr = np.array([1, 2, 3, 6, 4, 5])**"
      ],
      "metadata": {
        "id": "U4a5qxonONJP"
      }
    },
    {
      "cell_type": "code",
      "source": [
        "import numpy as np"
      ],
      "metadata": {
        "id": "TUNgwQStNPmO"
      },
      "execution_count": null,
      "outputs": []
    },
    {
      "cell_type": "code",
      "source": [
        "a = np.array([1,2,3,6,4,5])\n",
        "a = np.flipud(a)\n",
        "print(\"The reversed array is\",a)"
      ],
      "metadata": {
        "id": "PlupPhxgQb6L",
        "colab": {
          "base_uri": "https://localhost:8080/"
        },
        "outputId": "13bbae07-924f-499f-b0ae-59d3c0037e31"
      },
      "execution_count": null,
      "outputs": [
        {
          "output_type": "stream",
          "name": "stdout",
          "text": [
            "The reversed array is [5 4 6 3 2 1]\n"
          ]
        }
      ]
    },
    {
      "cell_type": "markdown",
      "source": [
        "**Q1(b)**"
      ],
      "metadata": {
        "id": "_R0POpS8QA6G"
      }
    },
    {
      "cell_type": "code",
      "source": [
        "arr = np.array([[1,2,3],[2,3,4],[1,2,3]])\n",
        "print(\"Flatten\",arr.flatten())\n",
        "print(\"Ravel\",arr.ravel())"
      ],
      "metadata": {
        "colab": {
          "base_uri": "https://localhost:8080/"
        },
        "id": "Zz3eh4rwQ5Kr",
        "outputId": "0c020c5f-a5d1-4df3-874e-f1558aa1a39e"
      },
      "execution_count": null,
      "outputs": [
        {
          "output_type": "stream",
          "name": "stdout",
          "text": [
            "Flatten [1 2 3 2 3 4 1 2 3]\n",
            "Ravel [1 2 3 2 3 4 1 2 3]\n"
          ]
        }
      ]
    },
    {
      "cell_type": "markdown",
      "source": [
        "**1(c)**"
      ],
      "metadata": {
        "id": "d9CWaOyCOqya"
      }
    },
    {
      "cell_type": "code",
      "source": [
        "arr1 = np.array([[1, 2], [3, 4]])\n",
        "arr2 = np.array([[1, 2], [3, 4]])\n",
        "print(\"Comparison:\\n \",arr1==arr2)"
      ],
      "metadata": {
        "colab": {
          "base_uri": "https://localhost:8080/"
        },
        "id": "LRkiiEOGOnv_",
        "outputId": "7c068d70-fd9c-4597-8cae-3e096cfcfc54"
      },
      "execution_count": null,
      "outputs": [
        {
          "output_type": "stream",
          "name": "stdout",
          "text": [
            "Comparison:\n",
            "  [[ True  True]\n",
            " [ True  True]]\n"
          ]
        }
      ]
    },
    {
      "cell_type": "markdown",
      "source": [
        "**1(d)**"
      ],
      "metadata": {
        "id": "ETgxzDIcYACb"
      }
    },
    {
      "cell_type": "code",
      "source": [
        "import numpy as np\n",
        "x = np.array([1,2,3,4,5,1,2,1,1,1])\n",
        "y = np.array([1, 1, 1, 2, 3, 4, 2, 4, 3, 3])\n",
        "List = [x,y]\n",
        "for i in List:\n",
        "  index = []\n",
        "  count = np.bincount(i).argmax()\n",
        "  print(\"Most freqnent elemenent \", count)\n",
        "  index = [y for y in range(0,len(i)) if i[y]==count]\n",
        "  print(\"List of indices is as: \",index)\n"
      ],
      "metadata": {
        "id": "4YG46zCsVbki",
        "colab": {
          "base_uri": "https://localhost:8080/"
        },
        "outputId": "ba4ca4dc-2913-4861-bb41-aebfc90d5360"
      },
      "execution_count": null,
      "outputs": [
        {
          "output_type": "stream",
          "name": "stdout",
          "text": [
            "Most freqnent elemenent  1\n",
            "List of indices is as:  [0, 5, 7, 8, 9]\n",
            "Most freqnent elemenent  1\n",
            "List of indices is as:  [0, 1, 2]\n"
          ]
        }
      ]
    },
    {
      "cell_type": "markdown",
      "source": [
        " **1(e)**"
      ],
      "metadata": {
        "id": "eICLeO6JanB7"
      }
    },
    {
      "cell_type": "code",
      "source": [
        "gfg = np.matrix('[4,1,0;12,3,1;4,5,6]')\n",
        "print(\"Total: \",gfg.sum())\n",
        "print(\"Along x:\" ,gfg.sum(axis=0))\n",
        "print(\"Along y:\\n\" ,gfg.sum(axis=1))"
      ],
      "metadata": {
        "id": "qkPHpavqXcdK",
        "colab": {
          "base_uri": "https://localhost:8080/"
        },
        "outputId": "7eb2b703-51f3-47ea-9b7d-0dee12d3d2a7"
      },
      "execution_count": null,
      "outputs": [
        {
          "output_type": "stream",
          "name": "stdout",
          "text": [
            "Total:  36\n",
            "Along x: [[20  9  7]]\n",
            "Along y:\n",
            " [[ 5]\n",
            " [16]\n",
            " [15]]\n"
          ]
        }
      ]
    },
    {
      "cell_type": "markdown",
      "source": [
        "**1(f)**"
      ],
      "metadata": {
        "id": "HlqjM1kWeKiy"
      }
    },
    {
      "cell_type": "code",
      "source": [
        "n = np.array([[55,25,15],\n",
        "              [30,4,2],\n",
        "              [11,45,77]])\n",
        "print(\"TRACE:\\n \",np.trace(n))\n",
        "print(\"\\nEigen Values:\\n \",np.linalg.eig(n))\n",
        "print(\"\\nInverse Values\\n \",np.linalg.inv(n))\n",
        "print(\"Determinant: \",np.linalg.det(n))"
      ],
      "metadata": {
        "id": "ZK4Tc8FSaG5a",
        "colab": {
          "base_uri": "https://localhost:8080/"
        },
        "outputId": "aa36fc56-8cb8-4bf1-8a16-181385a96c6c"
      },
      "execution_count": null,
      "outputs": [
        {
          "output_type": "stream",
          "name": "stdout",
          "text": [
            "TRACE:\n",
            "  136\n",
            "\n",
            "Eigen Values:\n",
            "  (array([-5.62502721, 49.37032502, 92.25470219]), array([[-0.24809905,  0.55429855,  0.46837517],\n",
            "       [ 0.86423518,  0.33288849,  0.17882043],\n",
            "       [-0.43765787, -0.76284885,  0.86524445]]))\n",
            "\n",
            "Inverse Values\n",
            "  [[-0.00850898  0.04879001  0.00039032]\n",
            " [ 0.08930523 -0.15886027 -0.01327088]\n",
            " [-0.0509758   0.08587041  0.02068696]]\n",
            "Determinant:  -25620.0\n"
          ]
        }
      ]
    },
    {
      "cell_type": "markdown",
      "source": [
        "**1(g)**"
      ],
      "metadata": {
        "id": "dtxWA83R-npm"
      }
    },
    {
      "cell_type": "code",
      "source": [
        "p = np.array([[1, 2], [2, 3]])\n",
        "q = np.array([[4, 5], [6, 7]])\n",
        "print(\"The Multiplication is\\n\",np.dot(p,q))\n",
        "print(\"The covariance is\\n\",np.cov(p,q))"
      ],
      "metadata": {
        "colab": {
          "base_uri": "https://localhost:8080/"
        },
        "id": "kCPaydWcebmj",
        "outputId": "8d2d5f68-233c-4bd5-a975-ac99fcbb68fb"
      },
      "execution_count": null,
      "outputs": [
        {
          "output_type": "stream",
          "name": "stdout",
          "text": [
            "The Multiplication is\n",
            " [[16 19]\n",
            " [26 31]]\n",
            "The covariance is\n",
            " [[0.5 0.5 0.5 0.5]\n",
            " [0.5 0.5 0.5 0.5]\n",
            " [0.5 0.5 0.5 0.5]\n",
            " [0.5 0.5 0.5 0.5]]\n"
          ]
        }
      ]
    },
    {
      "cell_type": "markdown",
      "source": [
        "**1(h)**"
      ],
      "metadata": {
        "id": "dwcyOTuvFSU6"
      }
    },
    {
      "cell_type": "code",
      "source": [
        "x = np.array([[2, 3, 4], [3, 2, 9]])\n",
        "y = np.array([[1, 5, 0], [5, 10, 3]])\n",
        "innerr = np.inner(x,y)\n",
        "outerr = np.outer(x,y)\n",
        "crosss = np.cross(x,y)\n",
        "print(\"Inner: \\n\",innerr)\n",
        "print(\"Outer: \\n\",outerr)\n",
        "print(\"Cartesian: \\n\",crosss)"
      ],
      "metadata": {
        "id": "WEpDkf1pe8MC",
        "colab": {
          "base_uri": "https://localhost:8080/"
        },
        "outputId": "02e3a7eb-2201-466f-dcd5-e133e4ffb419"
      },
      "execution_count": null,
      "outputs": [
        {
          "output_type": "stream",
          "name": "stdout",
          "text": [
            "Inner: \n",
            " [[17 52]\n",
            " [13 62]]\n",
            "Outer: \n",
            " [[ 2 10  0 10 20  6]\n",
            " [ 3 15  0 15 30  9]\n",
            " [ 4 20  0 20 40 12]\n",
            " [ 3 15  0 15 30  9]\n",
            " [ 2 10  0 10 20  6]\n",
            " [ 9 45  0 45 90 27]]\n",
            "Cartesian: \n",
            " [[-20   4   7]\n",
            " [-84  36  20]]\n"
          ]
        }
      ]
    },
    {
      "cell_type": "code",
      "source": [
        "'''\n",
        "Submitted by:\n",
        "Lakshay Singla\n",
        "102003371\n",
        "3CO15\n",
        "'''"
      ],
      "metadata": {
        "id": "UjtfqCZhXvkp"
      },
      "execution_count": null,
      "outputs": []
    },
    {
      "cell_type": "markdown",
      "source": [
        "**Question 2**"
      ],
      "metadata": {
        "id": "CmpKEz94Fd-y"
      }
    },
    {
      "cell_type": "markdown",
      "source": [
        "**2(a)**"
      ],
      "metadata": {
        "id": "23zTwT0ZG9fU"
      }
    },
    {
      "cell_type": "code",
      "source": [
        "abs = np.array([[1, -2, 3],[-4, 5, -6]])\n",
        "absol = np.abs(abs)\n",
        "absol"
      ],
      "metadata": {
        "id": "eEQVgAVbFJH5",
        "colab": {
          "base_uri": "https://localhost:8080/"
        },
        "outputId": "421cca1e-5e5c-450e-9cb0-057e13302c0d"
      },
      "execution_count": null,
      "outputs": [
        {
          "output_type": "execute_result",
          "data": {
            "text/plain": [
              "array([[1, 2, 3],\n",
              "       [4, 5, 6]])"
            ]
          },
          "metadata": {},
          "execution_count": 38
        }
      ]
    },
    {
      "cell_type": "code",
      "source": [
        "P25 = np.percentile(abs,25)\n",
        "P50 = np.percentile(abs,50)\n",
        "P75 = np.percentile(abs,75)\n",
        "print(P25)\n",
        "print(P50)\n",
        "print(P75)"
      ],
      "metadata": {
        "id": "do-AaNfJFtZ7",
        "colab": {
          "base_uri": "https://localhost:8080/"
        },
        "outputId": "5256607d-001a-4362-e357-5f6b82e40e90"
      },
      "execution_count": null,
      "outputs": [
        {
          "output_type": "stream",
          "name": "stdout",
          "text": [
            "-3.5\n",
            "-0.5\n",
            "2.5\n"
          ]
        }
      ]
    },
    {
      "cell_type": "code",
      "source": [
        "#y axis\n",
        "P25 = np.percentile(abs,25,axis = 0)\n",
        "P50 = np.percentile(abs,50,axis = 0)\n",
        "P75 = np.percentile(abs,75,axis = 0)\n",
        "print(P25)\n",
        "print(P50)\n",
        "print(P75)"
      ],
      "metadata": {
        "id": "cpCcWl--GThq",
        "colab": {
          "base_uri": "https://localhost:8080/"
        },
        "outputId": "f2c69c52-83cc-430c-b71d-241b8ec8884d"
      },
      "execution_count": null,
      "outputs": [
        {
          "output_type": "stream",
          "name": "stdout",
          "text": [
            "[-2.75 -0.25 -3.75]\n",
            "[-1.5  1.5 -1.5]\n",
            "[-0.25  3.25  0.75]\n"
          ]
        }
      ]
    },
    {
      "cell_type": "code",
      "source": [
        "#x axis\n",
        "P25 = np.percentile(abs,25,axis = 1)\n",
        "P50 = np.percentile(abs,50,axis = 1)\n",
        "P75 = np.percentile(abs,75,axis = 1)\n",
        "print(P25)\n",
        "print(P50)\n",
        "print(P75)"
      ],
      "metadata": {
        "id": "p6ALVe4YGuq3",
        "colab": {
          "base_uri": "https://localhost:8080/"
        },
        "outputId": "240af9b9-7a1c-47de-fcc1-7b3bf34175ff"
      },
      "execution_count": null,
      "outputs": [
        {
          "output_type": "stream",
          "name": "stdout",
          "text": [
            "[-0.5 -5. ]\n",
            "[ 1. -4.]\n",
            "[2.  0.5]\n"
          ]
        }
      ]
    },
    {
      "cell_type": "code",
      "source": [
        "mean = np.mean(abs)\n",
        "median = np.median(abs)\n",
        "std = np.std(abs)\n",
        "print(\"Median: \",median)\n",
        "print(\"Mean: \",mean)\n",
        "print(\"STD: \",std)"
      ],
      "metadata": {
        "colab": {
          "base_uri": "https://localhost:8080/"
        },
        "id": "JZ-w7KR1HJRG",
        "outputId": "72322c7d-a11d-404e-daea-8b65dc9472db"
      },
      "execution_count": null,
      "outputs": [
        {
          "output_type": "stream",
          "name": "stdout",
          "text": [
            "Median:  -0.5\n",
            "Mean:  -0.5\n",
            "STD:  3.8622100754188224\n"
          ]
        }
      ]
    },
    {
      "cell_type": "code",
      "source": [
        "for i in range(0,2):\n",
        "  print(\"ALONG AXIS: \",i)\n",
        "  axis = i\n",
        "  mean = np.mean(abs,axis = axis)\n",
        "  median = np.median(abs,axis = axis)\n",
        "  std = np.std(abs,axis = axis)\n",
        "  print(\"Median: \",median)\n",
        "  print(\"Mean: \",mean)\n",
        "  print(\"STD: \",std)"
      ],
      "metadata": {
        "colab": {
          "base_uri": "https://localhost:8080/"
        },
        "id": "TxppV28ZHbx5",
        "outputId": "aac3ba63-df6b-46ef-9a0f-1421383118af"
      },
      "execution_count": null,
      "outputs": [
        {
          "output_type": "stream",
          "name": "stdout",
          "text": [
            "ALONG AXIS:  0\n",
            "Median:  [-1.5  1.5 -1.5]\n",
            "Mean:  [-1.5  1.5 -1.5]\n",
            "STD:  [2.5 3.5 4.5]\n",
            "ALONG AXIS:  1\n",
            "Median:  [ 1. -4.]\n",
            "Mean:  [ 0.66666667 -1.66666667]\n",
            "STD:  [2.05480467 4.78423336]\n"
          ]
        }
      ]
    },
    {
      "cell_type": "markdown",
      "source": [
        "**2(B)**"
      ],
      "metadata": {
        "id": "P07aVLs9IHbj"
      }
    },
    {
      "cell_type": "code",
      "source": [
        "a = np.array([-1.8, -1.6, -0.5, 0.5,1.6, 1.8, 3.0])\n",
        "floor = np.floor(a)\n",
        "ceil  = np.ceil(a)\n",
        "truncate = np.trunc(a)\n",
        "round = np.round(a)\n",
        "print(\"Floor: \",floor)\n",
        "print(\"Ceil: \",ceil)\n",
        "print(\"Truncate :\",truncate)\n",
        "print(\"Round: \",round)"
      ],
      "metadata": {
        "id": "bH-x3GfMIMlM",
        "colab": {
          "base_uri": "https://localhost:8080/"
        },
        "outputId": "ee69c8cc-d8f8-43c5-d2c8-d8d4bc1f8821"
      },
      "execution_count": null,
      "outputs": [
        {
          "output_type": "stream",
          "name": "stdout",
          "text": [
            "Floor:  [-2. -2. -1.  0.  1.  1.  3.]\n",
            "Ceil:  [-1. -1. -0.  1.  2.  2.  3.]\n",
            "Truncate : [-1. -1. -0.  0.  1.  1.  3.]\n",
            "Round:  [-2. -2. -0.  0.  2.  2.  3.]\n"
          ]
        }
      ]
    },
    {
      "cell_type": "code",
      "source": [
        "'''\n",
        "Submitted by:\n",
        "Lakshay Singla\n",
        "102003371\n",
        "3CO15\n",
        "'''"
      ],
      "metadata": {
        "id": "TQcCis6vXw8S"
      },
      "execution_count": null,
      "outputs": []
    },
    {
      "cell_type": "markdown",
      "source": [
        "**Question 3**"
      ],
      "metadata": {
        "id": "9gcVG4VNJc76"
      }
    },
    {
      "cell_type": "markdown",
      "source": [
        "**3(a)**"
      ],
      "metadata": {
        "id": "rPm3nQFbMIWn"
      }
    },
    {
      "cell_type": "code",
      "source": [
        "array = np.array([10, 52, 62, 16, 16, 54, 453])\n",
        "sorted = np.sort(array)\n",
        "argsort = np.argsort(array)\n",
        "print(\"Sorted array: \",sorted)\n",
        "print(\"Indices: \",argsort)\n",
        "x = [i for i in sorted]\n",
        "print(\"SMALLEST: \",x[:4])\n",
        "x = [i for i in sorted]\n",
        "print(\"LARGEST: \",x[-5:])"
      ],
      "metadata": {
        "id": "krwSsrVYIT2E",
        "colab": {
          "base_uri": "https://localhost:8080/"
        },
        "outputId": "8d93bd5f-0bf6-435c-dac3-6e4b69673f57"
      },
      "execution_count": null,
      "outputs": [
        {
          "output_type": "stream",
          "name": "stdout",
          "text": [
            "Sorted array:  [ 10  16  16  52  54  62 453]\n",
            "Indices:  [0 3 4 1 5 2 6]\n",
            "SMALLEST:  [10, 16, 16, 52]\n",
            "LARGEST:  [16, 52, 54, 62, 453]\n"
          ]
        }
      ]
    },
    {
      "cell_type": "markdown",
      "source": [
        "**3(B)**"
      ],
      "metadata": {
        "id": "4UHDqxu8MKIH"
      }
    },
    {
      "cell_type": "code",
      "source": [
        "import math as m\n",
        "array = np.array([1.0, 1.2, 2.2, 2.0, 3.0, 2.0])\n",
        "floating = [x for x in array if x==m.floor(x)]\n",
        "integer = [x for x in array if x!=m.floor(x)]\n",
        "print(integer)\n",
        "print(floating)"
      ],
      "metadata": {
        "colab": {
          "base_uri": "https://localhost:8080/"
        },
        "id": "9zSuFqc_MPKV",
        "outputId": "4cf81eb1-b18d-4f5e-e899-331c28e2b120"
      },
      "execution_count": null,
      "outputs": [
        {
          "output_type": "stream",
          "name": "stdout",
          "text": [
            "[1.2, 2.2]\n",
            "[1.0, 2.0, 3.0, 2.0]\n"
          ]
        }
      ]
    },
    {
      "cell_type": "code",
      "source": [
        "'''\n",
        "Submitted by:\n",
        "Lakshay Singla\n",
        "102003371\n",
        "3CO15\n",
        "'''"
      ],
      "metadata": {
        "id": "WbN3ZJ9UXxqj"
      },
      "execution_count": null,
      "outputs": []
    },
    {
      "cell_type": "markdown",
      "source": [
        "**Question 4**"
      ],
      "metadata": {
        "id": "gvZedY_lOufQ"
      }
    },
    {
      "cell_type": "code",
      "source": [
        "import cv2\n",
        "from google.colab import files"
      ],
      "metadata": {
        "id": "_u2zdNOQMbHc"
      },
      "execution_count": null,
      "outputs": []
    },
    {
      "cell_type": "code",
      "source": [
        "def img_to_array(path=\"test.jpg\"):\n",
        "      choice= int(input(\"Enter 0 for grayscale and 1 for RGB: \"))\n",
        "      img= cv2.imread(path,choice)\n",
        "      file = open(\"myfile.txt\",\"w\")\n",
        "      file.write(str(img))\n",
        "      file.close()\n",
        "      files.download(\"myfile.txt\")"
      ],
      "metadata": {
        "id": "4VqauxKjL3IX"
      },
      "execution_count": null,
      "outputs": []
    },
    {
      "cell_type": "code",
      "source": [
        "img_to_array('/content/Lakshay.jpg')"
      ],
      "metadata": {
        "id": "q0k7t5TGL-na"
      },
      "execution_count": null,
      "outputs": []
    },
    {
      "cell_type": "markdown",
      "source": [
        "**Submitted by Lakshay Singla**\n"
      ],
      "metadata": {
        "id": "R55jEhK3osds"
      }
    }
  ]
}