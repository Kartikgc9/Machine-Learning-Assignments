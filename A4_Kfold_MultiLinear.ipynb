{
  "cells": [
    {
      "cell_type": "markdown",
      "metadata": {
        "id": "view-in-github",
        "colab_type": "text"
      },
      "source": [
        "<a href=\"https://colab.research.google.com/github/Lakshay02020/Machine-Learning-Assignments/blob/main/A4_Kfold_MultiLinear.ipynb\" target=\"_parent\"><img src=\"https://colab.research.google.com/assets/colab-badge.svg\" alt=\"Open In Colab\"/></a>"
      ]
    },
    {
      "cell_type": "markdown",
      "metadata": {
        "id": "Vk0_7xD7CCTj"
      },
      "source": [
        "\n",
        "*   **Lakshay Singla**\n",
        "*   **102003371**\n",
        "*   **3CO15**\n",
        "* **Assignment 4**"
      ]
    },
    {
      "cell_type": "code",
      "execution_count": null,
      "metadata": {
        "id": "vxX0U7p-Z6Sq"
      },
      "outputs": [],
      "source": [
        "import numpy as np\n",
        "import matplotlib.pyplot as plt\n",
        "import pandas as pd\n",
        "from sklearn.model_selection import train_test_split\n",
        "import seaborn as sns"
      ]
    },
    {
      "cell_type": "markdown",
      "source": [],
      "metadata": {
        "id": "vKyl0bvvn3OL"
      }
    },
    {
      "cell_type": "code",
      "execution_count": null,
      "metadata": {
        "colab": {
          "base_uri": "https://localhost:8080/",
          "height": 206
        },
        "id": "vULhu2GFbJAH",
        "outputId": "5a844d8a-6f8e-4171-a006-f1ab356892fe"
      },
      "outputs": [
        {
          "data": {
            "text/html": [
              "\n",
              "  <div id=\"df-dacc0a44-f885-4b2e-a685-3309f0b36575\">\n",
              "    <div class=\"colab-df-container\">\n",
              "      <div>\n",
              "<style scoped>\n",
              "    .dataframe tbody tr th:only-of-type {\n",
              "        vertical-align: middle;\n",
              "    }\n",
              "\n",
              "    .dataframe tbody tr th {\n",
              "        vertical-align: top;\n",
              "    }\n",
              "\n",
              "    .dataframe thead th {\n",
              "        text-align: right;\n",
              "    }\n",
              "</style>\n",
              "<table border=\"1\" class=\"dataframe\">\n",
              "  <thead>\n",
              "    <tr style=\"text-align: right;\">\n",
              "      <th></th>\n",
              "      <th>Avg. Area Income</th>\n",
              "      <th>Avg. Area House Age</th>\n",
              "      <th>Avg. Area Number of Rooms</th>\n",
              "      <th>Avg. Area Number of Bedrooms</th>\n",
              "      <th>Area Population</th>\n",
              "      <th>Price</th>\n",
              "    </tr>\n",
              "  </thead>\n",
              "  <tbody>\n",
              "    <tr>\n",
              "      <th>0</th>\n",
              "      <td>79545.45857</td>\n",
              "      <td>5.682861</td>\n",
              "      <td>7.009188</td>\n",
              "      <td>4.09</td>\n",
              "      <td>23086.80050</td>\n",
              "      <td>1.059034e+06</td>\n",
              "    </tr>\n",
              "    <tr>\n",
              "      <th>1</th>\n",
              "      <td>79248.64245</td>\n",
              "      <td>6.002900</td>\n",
              "      <td>6.730821</td>\n",
              "      <td>3.09</td>\n",
              "      <td>40173.07217</td>\n",
              "      <td>1.505891e+06</td>\n",
              "    </tr>\n",
              "    <tr>\n",
              "      <th>2</th>\n",
              "      <td>61287.06718</td>\n",
              "      <td>5.865890</td>\n",
              "      <td>8.512727</td>\n",
              "      <td>5.13</td>\n",
              "      <td>36882.15940</td>\n",
              "      <td>1.058988e+06</td>\n",
              "    </tr>\n",
              "    <tr>\n",
              "      <th>3</th>\n",
              "      <td>63345.24005</td>\n",
              "      <td>7.188236</td>\n",
              "      <td>5.586729</td>\n",
              "      <td>3.26</td>\n",
              "      <td>34310.24283</td>\n",
              "      <td>1.260617e+06</td>\n",
              "    </tr>\n",
              "    <tr>\n",
              "      <th>4</th>\n",
              "      <td>59982.19723</td>\n",
              "      <td>5.040555</td>\n",
              "      <td>7.839388</td>\n",
              "      <td>4.23</td>\n",
              "      <td>26354.10947</td>\n",
              "      <td>6.309435e+05</td>\n",
              "    </tr>\n",
              "  </tbody>\n",
              "</table>\n",
              "</div>\n",
              "      <button class=\"colab-df-convert\" onclick=\"convertToInteractive('df-dacc0a44-f885-4b2e-a685-3309f0b36575')\"\n",
              "              title=\"Convert this dataframe to an interactive table.\"\n",
              "              style=\"display:none;\">\n",
              "        \n",
              "  <svg xmlns=\"http://www.w3.org/2000/svg\" height=\"24px\"viewBox=\"0 0 24 24\"\n",
              "       width=\"24px\">\n",
              "    <path d=\"M0 0h24v24H0V0z\" fill=\"none\"/>\n",
              "    <path d=\"M18.56 5.44l.94 2.06.94-2.06 2.06-.94-2.06-.94-.94-2.06-.94 2.06-2.06.94zm-11 1L8.5 8.5l.94-2.06 2.06-.94-2.06-.94L8.5 2.5l-.94 2.06-2.06.94zm10 10l.94 2.06.94-2.06 2.06-.94-2.06-.94-.94-2.06-.94 2.06-2.06.94z\"/><path d=\"M17.41 7.96l-1.37-1.37c-.4-.4-.92-.59-1.43-.59-.52 0-1.04.2-1.43.59L10.3 9.45l-7.72 7.72c-.78.78-.78 2.05 0 2.83L4 21.41c.39.39.9.59 1.41.59.51 0 1.02-.2 1.41-.59l7.78-7.78 2.81-2.81c.8-.78.8-2.07 0-2.86zM5.41 20L4 18.59l7.72-7.72 1.47 1.35L5.41 20z\"/>\n",
              "  </svg>\n",
              "      </button>\n",
              "      \n",
              "  <style>\n",
              "    .colab-df-container {\n",
              "      display:flex;\n",
              "      flex-wrap:wrap;\n",
              "      gap: 12px;\n",
              "    }\n",
              "\n",
              "    .colab-df-convert {\n",
              "      background-color: #E8F0FE;\n",
              "      border: none;\n",
              "      border-radius: 50%;\n",
              "      cursor: pointer;\n",
              "      display: none;\n",
              "      fill: #1967D2;\n",
              "      height: 32px;\n",
              "      padding: 0 0 0 0;\n",
              "      width: 32px;\n",
              "    }\n",
              "\n",
              "    .colab-df-convert:hover {\n",
              "      background-color: #E2EBFA;\n",
              "      box-shadow: 0px 1px 2px rgba(60, 64, 67, 0.3), 0px 1px 3px 1px rgba(60, 64, 67, 0.15);\n",
              "      fill: #174EA6;\n",
              "    }\n",
              "\n",
              "    [theme=dark] .colab-df-convert {\n",
              "      background-color: #3B4455;\n",
              "      fill: #D2E3FC;\n",
              "    }\n",
              "\n",
              "    [theme=dark] .colab-df-convert:hover {\n",
              "      background-color: #434B5C;\n",
              "      box-shadow: 0px 1px 3px 1px rgba(0, 0, 0, 0.15);\n",
              "      filter: drop-shadow(0px 1px 2px rgba(0, 0, 0, 0.3));\n",
              "      fill: #FFFFFF;\n",
              "    }\n",
              "  </style>\n",
              "\n",
              "      <script>\n",
              "        const buttonEl =\n",
              "          document.querySelector('#df-dacc0a44-f885-4b2e-a685-3309f0b36575 button.colab-df-convert');\n",
              "        buttonEl.style.display =\n",
              "          google.colab.kernel.accessAllowed ? 'block' : 'none';\n",
              "\n",
              "        async function convertToInteractive(key) {\n",
              "          const element = document.querySelector('#df-dacc0a44-f885-4b2e-a685-3309f0b36575');\n",
              "          const dataTable =\n",
              "            await google.colab.kernel.invokeFunction('convertToInteractive',\n",
              "                                                     [key], {});\n",
              "          if (!dataTable) return;\n",
              "\n",
              "          const docLinkHtml = 'Like what you see? Visit the ' +\n",
              "            '<a target=\"_blank\" href=https://colab.research.google.com/notebooks/data_table.ipynb>data table notebook</a>'\n",
              "            + ' to learn more about interactive tables.';\n",
              "          element.innerHTML = '';\n",
              "          dataTable['output_type'] = 'display_data';\n",
              "          await google.colab.output.renderOutput(dataTable, element);\n",
              "          const docLink = document.createElement('div');\n",
              "          docLink.innerHTML = docLinkHtml;\n",
              "          element.appendChild(docLink);\n",
              "        }\n",
              "      </script>\n",
              "    </div>\n",
              "  </div>\n",
              "  "
            ],
            "text/plain": [
              "   Avg. Area Income  Avg. Area House Age  Avg. Area Number of Rooms  \\\n",
              "0       79545.45857             5.682861                   7.009188   \n",
              "1       79248.64245             6.002900                   6.730821   \n",
              "2       61287.06718             5.865890                   8.512727   \n",
              "3       63345.24005             7.188236                   5.586729   \n",
              "4       59982.19723             5.040555                   7.839388   \n",
              "\n",
              "   Avg. Area Number of Bedrooms  Area Population         Price  \n",
              "0                          4.09      23086.80050  1.059034e+06  \n",
              "1                          3.09      40173.07217  1.505891e+06  \n",
              "2                          5.13      36882.15940  1.058988e+06  \n",
              "3                          3.26      34310.24283  1.260617e+06  \n",
              "4                          4.23      26354.10947  6.309435e+05  "
            ]
          },
          "execution_count": 281,
          "metadata": {},
          "output_type": "execute_result"
        }
      ],
      "source": [
        "df = pd.read_csv('/content/USA_Housing.csv')\n",
        "df.head()"
      ]
    },
    {
      "cell_type": "code",
      "execution_count": null,
      "metadata": {
        "id": "ao63hFvKkUj-"
      },
      "outputs": [],
      "source": [
        "df = df.rename(columns={'Avg. Area Income':'Income','Avg. Area Number of Bedrooms':'Bedrooms','Avg. Area House Age':'Age','Avg. Area Number of Rooms':'Rooms','Area Population':'Population'})"
      ]
    },
    {
      "cell_type": "code",
      "execution_count": null,
      "metadata": {
        "colab": {
          "base_uri": "https://localhost:8080/"
        },
        "id": "MOnIyU3Q3wWw",
        "outputId": "c6ad89b0-790a-4295-b38a-2849ae3cb4f6"
      },
      "outputs": [
        {
          "data": {
            "text/plain": [
              "5.682861322"
            ]
          },
          "execution_count": 283,
          "metadata": {},
          "output_type": "execute_result"
        }
      ],
      "source": [
        "df['Age'][0]"
      ]
    },
    {
      "cell_type": "code",
      "execution_count": null,
      "metadata": {
        "id": "54H3TUkS3ISR"
      },
      "outputs": [],
      "source": [
        "# for i in range(len(df['Age'])):\n",
        "#   if(df['Age'][i]<3):\n",
        "#      df['Age'][i] = 5\n",
        "#   elif(df['Age'][i]):\n",
        "#      df['Age'][i] = 3\n",
        "#   else:\n",
        "#     df['Age'][i] = 1\n",
        "# df.head()"
      ]
    },
    {
      "cell_type": "code",
      "execution_count": null,
      "metadata": {
        "colab": {
          "base_uri": "https://localhost:8080/"
        },
        "id": "wizH4RUhdJ-M",
        "outputId": "f664c33e-e145-4f84-f8b6-78929ab830ca"
      },
      "outputs": [
        {
          "name": "stdout",
          "output_type": "stream",
          "text": [
            "<class 'pandas.core.frame.DataFrame'>\n",
            "RangeIndex: 5000 entries, 0 to 4999\n",
            "Data columns (total 6 columns):\n",
            " #   Column      Non-Null Count  Dtype  \n",
            "---  ------      --------------  -----  \n",
            " 0   Income      5000 non-null   float64\n",
            " 1   Age         5000 non-null   float64\n",
            " 2   Rooms       5000 non-null   float64\n",
            " 3   Bedrooms    5000 non-null   float64\n",
            " 4   Population  5000 non-null   float64\n",
            " 5   Price       5000 non-null   float64\n",
            "dtypes: float64(6)\n",
            "memory usage: 234.5 KB\n"
          ]
        }
      ],
      "source": [
        "df.info()"
      ]
    },
    {
      "cell_type": "code",
      "execution_count": null,
      "metadata": {
        "colab": {
          "base_uri": "https://localhost:8080/",
          "height": 330
        },
        "id": "oUG15EkWdO-c",
        "outputId": "2e4d12f4-d961-492b-c219-a208baae5f70"
      },
      "outputs": [
        {
          "data": {
            "text/plain": [
              "<matplotlib.axes._subplots.AxesSubplot at 0x7f482bd24b50>"
            ]
          },
          "execution_count": 286,
          "metadata": {},
          "output_type": "execute_result"
        },
        {
          "data": {
            "image/png": "[encoded data removed]",
            "text/plain": [
              "<Figure size 432x288 with 2 Axes>"
            ]
          },
          "metadata": {},
          "output_type": "display_data"
        }
      ],
      "source": [
        "sns.heatmap(df.corr(),annot=True)"
      ]
    },
    {
      "cell_type": "code",
      "execution_count": null,
      "metadata": {
        "id": "yuydgGEVeaRu"
      },
      "outputs": [],
      "source": [
        "x = df.iloc[:,0:-1]\n",
        "y = df.iloc[:,-1]"
      ]
    },
    {
      "cell_type": "code",
      "execution_count": null,
      "metadata": {
        "colab": {
          "base_uri": "https://localhost:8080/"
        },
        "id": "7-4PkeF3gLWW",
        "outputId": "a135ce17-75b7-4d31-8cf0-daf464b55d9a"
      },
      "outputs": [
        {
          "name": "stdout",
          "output_type": "stream",
          "text": [
            "FEATURES\n",
            "            Income       Age     Rooms  Bedrooms   Population\n",
            "0     79545.45857  5.682861  7.009188      4.09  23086.80050\n",
            "1     79248.64245  6.002900  6.730821      3.09  40173.07217\n",
            "2     61287.06718  5.865890  8.512727      5.13  36882.15940\n",
            "3     63345.24005  7.188236  5.586729      3.26  34310.24283\n",
            "4     59982.19723  5.040555  7.839388      4.23  26354.10947\n",
            "...           ...       ...       ...       ...          ...\n",
            "4995  60567.94414  7.830362  6.137356      3.46  22837.36103\n",
            "4996  78491.27543  6.999135  6.576763      4.02  25616.11549\n",
            "4997  63390.68689  7.250591  4.805081      2.13  33266.14549\n",
            "4998  68001.33124  5.534388  7.130144      5.44  42625.62016\n",
            "4999  65510.58180  5.992305  6.792336      4.07  46501.28380\n",
            "\n",
            "[5000 rows x 5 columns]\n",
            "OUTPUT\n",
            " 0       1.059034e+06\n",
            "1       1.505891e+06\n",
            "2       1.058988e+06\n",
            "3       1.260617e+06\n",
            "4       6.309435e+05\n",
            "            ...     \n",
            "4995    1.060194e+06\n",
            "4996    1.482618e+06\n",
            "4997    1.030730e+06\n",
            "4998    1.198657e+06\n",
            "4999    1.298950e+06\n",
            "Name: Price, Length: 5000, dtype: float64\n"
          ]
        }
      ],
      "source": [
        "print(\"FEATURES\\n\",x)\n",
        "print(\"OUTPUT\\n\",y)"
      ]
    },
    {
      "cell_type": "code",
      "execution_count": null,
      "metadata": {
        "colab": {
          "base_uri": "https://localhost:8080/",
          "height": 206
        },
        "id": "K2Q5M-8DnLL0",
        "outputId": "eb348383-38e9-4d84-d8c1-5474446fc0e9"
      },
      "outputs": [
        {
          "data": {
            "text/html": [
              "\n",
              "  <div id=\"df-d000ac4c-bef7-489a-a7fd-68b316c71265\">\n",
              "    <div class=\"colab-df-container\">\n",
              "      <div>\n",
              "<style scoped>\n",
              "    .dataframe tbody tr th:only-of-type {\n",
              "        vertical-align: middle;\n",
              "    }\n",
              "\n",
              "    .dataframe tbody tr th {\n",
              "        vertical-align: top;\n",
              "    }\n",
              "\n",
              "    .dataframe thead th {\n",
              "        text-align: right;\n",
              "    }\n",
              "</style>\n",
              "<table border=\"1\" class=\"dataframe\">\n",
              "  <thead>\n",
              "    <tr style=\"text-align: right;\">\n",
              "      <th></th>\n",
              "      <th>Income</th>\n",
              "      <th>Age</th>\n",
              "      <th>Rooms</th>\n",
              "      <th>Bedrooms</th>\n",
              "      <th>Population</th>\n",
              "      <th>Price</th>\n",
              "    </tr>\n",
              "  </thead>\n",
              "  <tbody>\n",
              "    <tr>\n",
              "      <th>0</th>\n",
              "      <td>79545.45857</td>\n",
              "      <td>5.682861</td>\n",
              "      <td>7.009188</td>\n",
              "      <td>4.09</td>\n",
              "      <td>23086.80050</td>\n",
              "      <td>1.059034e+06</td>\n",
              "    </tr>\n",
              "    <tr>\n",
              "      <th>1</th>\n",
              "      <td>79248.64245</td>\n",
              "      <td>6.002900</td>\n",
              "      <td>6.730821</td>\n",
              "      <td>3.09</td>\n",
              "      <td>40173.07217</td>\n",
              "      <td>1.505891e+06</td>\n",
              "    </tr>\n",
              "    <tr>\n",
              "      <th>2</th>\n",
              "      <td>61287.06718</td>\n",
              "      <td>5.865890</td>\n",
              "      <td>8.512727</td>\n",
              "      <td>5.13</td>\n",
              "      <td>36882.15940</td>\n",
              "      <td>1.058988e+06</td>\n",
              "    </tr>\n",
              "    <tr>\n",
              "      <th>3</th>\n",
              "      <td>63345.24005</td>\n",
              "      <td>7.188236</td>\n",
              "      <td>5.586729</td>\n",
              "      <td>3.26</td>\n",
              "      <td>34310.24283</td>\n",
              "      <td>1.260617e+06</td>\n",
              "    </tr>\n",
              "    <tr>\n",
              "      <th>4</th>\n",
              "      <td>59982.19723</td>\n",
              "      <td>5.040555</td>\n",
              "      <td>7.839388</td>\n",
              "      <td>4.23</td>\n",
              "      <td>26354.10947</td>\n",
              "      <td>6.309435e+05</td>\n",
              "    </tr>\n",
              "  </tbody>\n",
              "</table>\n",
              "</div>\n",
              "      <button class=\"colab-df-convert\" onclick=\"convertToInteractive('df-d000ac4c-bef7-489a-a7fd-68b316c71265')\"\n",
              "              title=\"Convert this dataframe to an interactive table.\"\n",
              "              style=\"display:none;\">\n",
              "        \n",
              "  <svg xmlns=\"http://www.w3.org/2000/svg\" height=\"24px\"viewBox=\"0 0 24 24\"\n",
              "       width=\"24px\">\n",
              "    <path d=\"M0 0h24v24H0V0z\" fill=\"none\"/>\n",
              "    <path d=\"M18.56 5.44l.94 2.06.94-2.06 2.06-.94-2.06-.94-.94-2.06-.94 2.06-2.06.94zm-11 1L8.5 8.5l.94-2.06 2.06-.94-2.06-.94L8.5 2.5l-.94 2.06-2.06.94zm10 10l.94 2.06.94-2.06 2.06-.94-2.06-.94-.94-2.06-.94 2.06-2.06.94z\"/><path d=\"M17.41 7.96l-1.37-1.37c-.4-.4-.92-.59-1.43-.59-.52 0-1.04.2-1.43.59L10.3 9.45l-7.72 7.72c-.78.78-.78 2.05 0 2.83L4 21.41c.39.39.9.59 1.41.59.51 0 1.02-.2 1.41-.59l7.78-7.78 2.81-2.81c.8-.78.8-2.07 0-2.86zM5.41 20L4 18.59l7.72-7.72 1.47 1.35L5.41 20z\"/>\n",
              "  </svg>\n",
              "      </button>\n",
              "      \n",
              "  <style>\n",
              "    .colab-df-container {\n",
              "      display:flex;\n",
              "      flex-wrap:wrap;\n",
              "      gap: 12px;\n",
              "    }\n",
              "\n",
              "    .colab-df-convert {\n",
              "      background-color: #E8F0FE;\n",
              "      border: none;\n",
              "      border-radius: 50%;\n",
              "      cursor: pointer;\n",
              "      display: none;\n",
              "      fill: #1967D2;\n",
              "      height: 32px;\n",
              "      padding: 0 0 0 0;\n",
              "      width: 32px;\n",
              "    }\n",
              "\n",
              "    .colab-df-convert:hover {\n",
              "      background-color: #E2EBFA;\n",
              "      box-shadow: 0px 1px 2px rgba(60, 64, 67, 0.3), 0px 1px 3px 1px rgba(60, 64, 67, 0.15);\n",
              "      fill: #174EA6;\n",
              "    }\n",
              "\n",
              "    [theme=dark] .colab-df-convert {\n",
              "      background-color: #3B4455;\n",
              "      fill: #D2E3FC;\n",
              "    }\n",
              "\n",
              "    [theme=dark] .colab-df-convert:hover {\n",
              "      background-color: #434B5C;\n",
              "      box-shadow: 0px 1px 3px 1px rgba(0, 0, 0, 0.15);\n",
              "      filter: drop-shadow(0px 1px 2px rgba(0, 0, 0, 0.3));\n",
              "      fill: #FFFFFF;\n",
              "    }\n",
              "  </style>\n",
              "\n",
              "      <script>\n",
              "        const buttonEl =\n",
              "          document.querySelector('#df-d000ac4c-bef7-489a-a7fd-68b316c71265 button.colab-df-convert');\n",
              "        buttonEl.style.display =\n",
              "          google.colab.kernel.accessAllowed ? 'block' : 'none';\n",
              "\n",
              "        async function convertToInteractive(key) {\n",
              "          const element = document.querySelector('#df-d000ac4c-bef7-489a-a7fd-68b316c71265');\n",
              "          const dataTable =\n",
              "            await google.colab.kernel.invokeFunction('convertToInteractive',\n",
              "                                                     [key], {});\n",
              "          if (!dataTable) return;\n",
              "\n",
              "          const docLinkHtml = 'Like what you see? Visit the ' +\n",
              "            '<a target=\"_blank\" href=https://colab.research.google.com/notebooks/data_table.ipynb>data table notebook</a>'\n",
              "            + ' to learn more about interactive tables.';\n",
              "          element.innerHTML = '';\n",
              "          dataTable['output_type'] = 'display_data';\n",
              "          await google.colab.output.renderOutput(dataTable, element);\n",
              "          const docLink = document.createElement('div');\n",
              "          docLink.innerHTML = docLinkHtml;\n",
              "          element.appendChild(docLink);\n",
              "        }\n",
              "      </script>\n",
              "    </div>\n",
              "  </div>\n",
              "  "
            ],
            "text/plain": [
              "        Income       Age     Rooms  Bedrooms   Population         Price\n",
              "0  79545.45857  5.682861  7.009188      4.09  23086.80050  1.059034e+06\n",
              "1  79248.64245  6.002900  6.730821      3.09  40173.07217  1.505891e+06\n",
              "2  61287.06718  5.865890  8.512727      5.13  36882.15940  1.058988e+06\n",
              "3  63345.24005  7.188236  5.586729      3.26  34310.24283  1.260617e+06\n",
              "4  59982.19723  5.040555  7.839388      4.23  26354.10947  6.309435e+05"
            ]
          },
          "execution_count": 289,
          "metadata": {},
          "output_type": "execute_result"
        }
      ],
      "source": [
        "df.head()"
      ]
    },
    {
      "cell_type": "code",
      "execution_count": null,
      "metadata": {
        "id": "DZCkcId7jum_"
      },
      "outputs": [],
      "source": [
        "from sklearn.preprocessing import MinMaxScaler\n",
        "scaler = MinMaxScaler()\n",
        "scaled = scaler.fit_transform(df[['Income','Rooms','Bedrooms','Population']])\n",
        "# df['Age'] = scaler.fit_transform(df[['Age']])\n",
        "df['Income'] = scaler.fit_transform(df[['Income']])\n",
        "df['Bedrooms'] = scaler.fit_transform(df[['Bedrooms']])\n",
        "df['Rooms'] = scaler.fit_transform(df[['Rooms']])\n",
        "df['Population'] = scaler.fit_transform(df[['Population']])"
      ]
    },
    {
      "cell_type": "code",
      "execution_count": null,
      "metadata": {
        "colab": {
          "base_uri": "https://localhost:8080/",
          "height": 424
        },
        "id": "AHwEv5kU4bdO",
        "outputId": "a944d6d2-427b-42d5-e41c-4f89b9d1896b"
      },
      "outputs": [
        {
          "data": {
            "text/html": [
              "\n",
              "  <div id=\"df-2e9adc0d-187f-43a8-a49c-b38cb00229fb\">\n",
              "    <div class=\"colab-df-container\">\n",
              "      <div>\n",
              "<style scoped>\n",
              "    .dataframe tbody tr th:only-of-type {\n",
              "        vertical-align: middle;\n",
              "    }\n",
              "\n",
              "    .dataframe tbody tr th {\n",
              "        vertical-align: top;\n",
              "    }\n",
              "\n",
              "    .dataframe thead th {\n",
              "        text-align: right;\n",
              "    }\n",
              "</style>\n",
              "<table border=\"1\" class=\"dataframe\">\n",
              "  <thead>\n",
              "    <tr style=\"text-align: right;\">\n",
              "      <th></th>\n",
              "      <th>Income</th>\n",
              "      <th>Age</th>\n",
              "      <th>Rooms</th>\n",
              "      <th>Bedrooms</th>\n",
              "      <th>Population</th>\n",
              "      <th>Price</th>\n",
              "    </tr>\n",
              "  </thead>\n",
              "  <tbody>\n",
              "    <tr>\n",
              "      <th>0</th>\n",
              "      <td>0.686822</td>\n",
              "      <td>5.682861</td>\n",
              "      <td>0.501502</td>\n",
              "      <td>0.464444</td>\n",
              "      <td>0.329942</td>\n",
              "      <td>1.059034e+06</td>\n",
              "    </tr>\n",
              "    <tr>\n",
              "      <th>1</th>\n",
              "      <td>0.683521</td>\n",
              "      <td>6.002900</td>\n",
              "      <td>0.464501</td>\n",
              "      <td>0.242222</td>\n",
              "      <td>0.575968</td>\n",
              "      <td>1.505891e+06</td>\n",
              "    </tr>\n",
              "    <tr>\n",
              "      <th>2</th>\n",
              "      <td>0.483737</td>\n",
              "      <td>5.865890</td>\n",
              "      <td>0.701350</td>\n",
              "      <td>0.695556</td>\n",
              "      <td>0.528582</td>\n",
              "      <td>1.058988e+06</td>\n",
              "    </tr>\n",
              "    <tr>\n",
              "      <th>3</th>\n",
              "      <td>0.506630</td>\n",
              "      <td>7.188236</td>\n",
              "      <td>0.312430</td>\n",
              "      <td>0.280000</td>\n",
              "      <td>0.491549</td>\n",
              "      <td>1.260617e+06</td>\n",
              "    </tr>\n",
              "    <tr>\n",
              "      <th>4</th>\n",
              "      <td>0.469223</td>\n",
              "      <td>5.040555</td>\n",
              "      <td>0.611851</td>\n",
              "      <td>0.495556</td>\n",
              "      <td>0.376988</td>\n",
              "      <td>6.309435e+05</td>\n",
              "    </tr>\n",
              "    <tr>\n",
              "      <th>...</th>\n",
              "      <td>...</td>\n",
              "      <td>...</td>\n",
              "      <td>...</td>\n",
              "      <td>...</td>\n",
              "      <td>...</td>\n",
              "      <td>...</td>\n",
              "    </tr>\n",
              "    <tr>\n",
              "      <th>4995</th>\n",
              "      <td>0.475738</td>\n",
              "      <td>7.830362</td>\n",
              "      <td>0.385619</td>\n",
              "      <td>0.324444</td>\n",
              "      <td>0.326351</td>\n",
              "      <td>1.060194e+06</td>\n",
              "    </tr>\n",
              "    <tr>\n",
              "      <th>4996</th>\n",
              "      <td>0.675097</td>\n",
              "      <td>6.999135</td>\n",
              "      <td>0.444024</td>\n",
              "      <td>0.448889</td>\n",
              "      <td>0.366362</td>\n",
              "      <td>1.482618e+06</td>\n",
              "    </tr>\n",
              "    <tr>\n",
              "      <th>4997</th>\n",
              "      <td>0.507135</td>\n",
              "      <td>7.250591</td>\n",
              "      <td>0.208534</td>\n",
              "      <td>0.028889</td>\n",
              "      <td>0.476515</td>\n",
              "      <td>1.030730e+06</td>\n",
              "    </tr>\n",
              "    <tr>\n",
              "      <th>4998</th>\n",
              "      <td>0.558419</td>\n",
              "      <td>5.534388</td>\n",
              "      <td>0.517579</td>\n",
              "      <td>0.764444</td>\n",
              "      <td>0.611282</td>\n",
              "      <td>1.198657e+06</td>\n",
              "    </tr>\n",
              "    <tr>\n",
              "      <th>4999</th>\n",
              "      <td>0.530715</td>\n",
              "      <td>5.992305</td>\n",
              "      <td>0.472678</td>\n",
              "      <td>0.460000</td>\n",
              "      <td>0.667088</td>\n",
              "      <td>1.298950e+06</td>\n",
              "    </tr>\n",
              "  </tbody>\n",
              "</table>\n",
              "<p>5000 rows × 6 columns</p>\n",
              "</div>\n",
              "      <button class=\"colab-df-convert\" onclick=\"convertToInteractive('df-2e9adc0d-187f-43a8-a49c-b38cb00229fb')\"\n",
              "              title=\"Convert this dataframe to an interactive table.\"\n",
              "              style=\"display:none;\">\n",
              "        \n",
              "  <svg xmlns=\"http://www.w3.org/2000/svg\" height=\"24px\"viewBox=\"0 0 24 24\"\n",
              "       width=\"24px\">\n",
              "    <path d=\"M0 0h24v24H0V0z\" fill=\"none\"/>\n",
              "    <path d=\"M18.56 5.44l.94 2.06.94-2.06 2.06-.94-2.06-.94-.94-2.06-.94 2.06-2.06.94zm-11 1L8.5 8.5l.94-2.06 2.06-.94-2.06-.94L8.5 2.5l-.94 2.06-2.06.94zm10 10l.94 2.06.94-2.06 2.06-.94-2.06-.94-.94-2.06-.94 2.06-2.06.94z\"/><path d=\"M17.41 7.96l-1.37-1.37c-.4-.4-.92-.59-1.43-.59-.52 0-1.04.2-1.43.59L10.3 9.45l-7.72 7.72c-.78.78-.78 2.05 0 2.83L4 21.41c.39.39.9.59 1.41.59.51 0 1.02-.2 1.41-.59l7.78-7.78 2.81-2.81c.8-.78.8-2.07 0-2.86zM5.41 20L4 18.59l7.72-7.72 1.47 1.35L5.41 20z\"/>\n",
              "  </svg>\n",
              "      </button>\n",
              "      \n",
              "  <style>\n",
              "    .colab-df-container {\n",
              "      display:flex;\n",
              "      flex-wrap:wrap;\n",
              "      gap: 12px;\n",
              "    }\n",
              "\n",
              "    .colab-df-convert {\n",
              "      background-color: #E8F0FE;\n",
              "      border: none;\n",
              "      border-radius: 50%;\n",
              "      cursor: pointer;\n",
              "      display: none;\n",
              "      fill: #1967D2;\n",
              "      height: 32px;\n",
              "      padding: 0 0 0 0;\n",
              "      width: 32px;\n",
              "    }\n",
              "\n",
              "    .colab-df-convert:hover {\n",
              "      background-color: #E2EBFA;\n",
              "      box-shadow: 0px 1px 2px rgba(60, 64, 67, 0.3), 0px 1px 3px 1px rgba(60, 64, 67, 0.15);\n",
              "      fill: #174EA6;\n",
              "    }\n",
              "\n",
              "    [theme=dark] .colab-df-convert {\n",
              "      background-color: #3B4455;\n",
              "      fill: #D2E3FC;\n",
              "    }\n",
              "\n",
              "    [theme=dark] .colab-df-convert:hover {\n",
              "      background-color: #434B5C;\n",
              "      box-shadow: 0px 1px 3px 1px rgba(0, 0, 0, 0.15);\n",
              "      filter: drop-shadow(0px 1px 2px rgba(0, 0, 0, 0.3));\n",
              "      fill: #FFFFFF;\n",
              "    }\n",
              "  </style>\n",
              "\n",
              "      <script>\n",
              "        const buttonEl =\n",
              "          document.querySelector('#df-2e9adc0d-187f-43a8-a49c-b38cb00229fb button.colab-df-convert');\n",
              "        buttonEl.style.display =\n",
              "          google.colab.kernel.accessAllowed ? 'block' : 'none';\n",
              "\n",
              "        async function convertToInteractive(key) {\n",
              "          const element = document.querySelector('#df-2e9adc0d-187f-43a8-a49c-b38cb00229fb');\n",
              "          const dataTable =\n",
              "            await google.colab.kernel.invokeFunction('convertToInteractive',\n",
              "                                                     [key], {});\n",
              "          if (!dataTable) return;\n",
              "\n",
              "          const docLinkHtml = 'Like what you see? Visit the ' +\n",
              "            '<a target=\"_blank\" href=https://colab.research.google.com/notebooks/data_table.ipynb>data table notebook</a>'\n",
              "            + ' to learn more about interactive tables.';\n",
              "          element.innerHTML = '';\n",
              "          dataTable['output_type'] = 'display_data';\n",
              "          await google.colab.output.renderOutput(dataTable, element);\n",
              "          const docLink = document.createElement('div');\n",
              "          docLink.innerHTML = docLinkHtml;\n",
              "          element.appendChild(docLink);\n",
              "        }\n",
              "      </script>\n",
              "    </div>\n",
              "  </div>\n",
              "  "
            ],
            "text/plain": [
              "        Income       Age     Rooms  Bedrooms  Population         Price\n",
              "0     0.686822  5.682861  0.501502  0.464444    0.329942  1.059034e+06\n",
              "1     0.683521  6.002900  0.464501  0.242222    0.575968  1.505891e+06\n",
              "2     0.483737  5.865890  0.701350  0.695556    0.528582  1.058988e+06\n",
              "3     0.506630  7.188236  0.312430  0.280000    0.491549  1.260617e+06\n",
              "4     0.469223  5.040555  0.611851  0.495556    0.376988  6.309435e+05\n",
              "...        ...       ...       ...       ...         ...           ...\n",
              "4995  0.475738  7.830362  0.385619  0.324444    0.326351  1.060194e+06\n",
              "4996  0.675097  6.999135  0.444024  0.448889    0.366362  1.482618e+06\n",
              "4997  0.507135  7.250591  0.208534  0.028889    0.476515  1.030730e+06\n",
              "4998  0.558419  5.534388  0.517579  0.764444    0.611282  1.198657e+06\n",
              "4999  0.530715  5.992305  0.472678  0.460000    0.667088  1.298950e+06\n",
              "\n",
              "[5000 rows x 6 columns]"
            ]
          },
          "execution_count": 291,
          "metadata": {},
          "output_type": "execute_result"
        }
      ],
      "source": [
        "df"
      ]
    },
    {
      "cell_type": "code",
      "execution_count": null,
      "metadata": {
        "id": "COGStRbNlWB-"
      },
      "outputs": [],
      "source": [
        "train_x,test_x,train_y,test_y = train_test_split(x,y,test_size=0.3,random_state=42)"
      ]
    },
    {
      "cell_type": "code",
      "execution_count": null,
      "metadata": {
        "colab": {
          "base_uri": "https://localhost:8080/"
        },
        "id": "QKctmrWJxG6S",
        "outputId": "078b7e2b-ab5f-4cdf-9771-73d93f27fd47"
      },
      "outputs": [
        {
          "data": {
            "text/plain": [
              "(3500,)"
            ]
          },
          "execution_count": 293,
          "metadata": {},
          "output_type": "execute_result"
        }
      ],
      "source": [
        "train_y.shape"
      ]
    },
    {
      "cell_type": "code",
      "execution_count": null,
      "metadata": {
        "colab": {
          "base_uri": "https://localhost:8080/"
        },
        "id": "vi2tXdZywxAW",
        "outputId": "34e120a7-4edb-4e8b-d5d7-7e7e6ee27f0c"
      },
      "outputs": [
        {
          "data": {
            "text/plain": [
              "(3500, 5)"
            ]
          },
          "execution_count": 294,
          "metadata": {},
          "output_type": "execute_result"
        }
      ],
      "source": [
        "train_x.shape"
      ]
    },
    {
      "cell_type": "code",
      "execution_count": null,
      "metadata": {
        "colab": {
          "base_uri": "https://localhost:8080/"
        },
        "id": "R5nl4K21q4jv",
        "outputId": "e5b27787-85b8-4648-af72-7a8fc80b0f68"
      },
      "outputs": [
        {
          "name": "stdout",
          "output_type": "stream",
          "text": [
            "(5,)\n"
          ]
        }
      ],
      "source": [
        "A = train_x.T.dot(train_x)\n",
        "B = np.linalg.inv(A)\n",
        "C = B.dot(train_x.T)\n",
        "D = C.dot(train_y)\n",
        "print(D.shape)"
      ]
    },
    {
      "cell_type": "code",
      "execution_count": null,
      "metadata": {
        "colab": {
          "base_uri": "https://localhost:8080/"
        },
        "id": "orJDhUTdsZ_C",
        "outputId": "ee9d7881-65a6-4e5b-bab8-d546bd4efdc1"
      },
      "outputs": [
        {
          "data": {
            "text/plain": [
              "array([1095505.03803204,   35879.63970854,  275355.73292687,\n",
              "         39025.7946158 ,  507117.03437105])"
            ]
          },
          "execution_count": 296,
          "metadata": {},
          "output_type": "execute_result"
        }
      ],
      "source": [
        "D"
      ]
    },
    {
      "cell_type": "code",
      "execution_count": null,
      "metadata": {
        "colab": {
          "base_uri": "https://localhost:8080/"
        },
        "id": "yJL0TvnA0N98",
        "outputId": "bd385cc4-e453-46fb-8413-ac2545704d2a"
      },
      "outputs": [
        {
          "data": {
            "text/plain": [
              "1501    1339096.077\n",
              "2586    1251794.179\n",
              "2653    1340094.966\n",
              "1055    1431507.623\n",
              "705     1042373.524\n",
              "           ...     \n",
              "3563    1348221.765\n",
              "1538    1309937.399\n",
              "1837    1472887.247\n",
              "2380    1409762.119\n",
              "1912    1009606.284\n",
              "Name: Price, Length: 1500, dtype: float64"
            ]
          },
          "execution_count": 297,
          "metadata": {},
          "output_type": "execute_result"
        }
      ],
      "source": [
        "test_y"
      ]
    },
    {
      "cell_type": "code",
      "execution_count": null,
      "metadata": {
        "colab": {
          "base_uri": "https://localhost:8080/"
        },
        "id": "cXzG28ZuxuVt",
        "outputId": "f1ba56a1-99cd-4a19-e976-f1dadae18538"
      },
      "outputs": [
        {
          "data": {
            "text/plain": [
              "1501    1.236182e+06\n",
              "2586    1.187797e+06\n",
              "2653    1.218000e+06\n",
              "1055    1.220597e+06\n",
              "705     1.286824e+06\n",
              "            ...     \n",
              "3563    1.307699e+06\n",
              "1538    1.198718e+06\n",
              "1837    1.297581e+06\n",
              "2380    1.326615e+06\n",
              "1912    1.152052e+06\n",
              "Length: 1500, dtype: float64"
            ]
          },
          "execution_count": 298,
          "metadata": {},
          "output_type": "execute_result"
        }
      ],
      "source": [
        "y_pred = test_x.dot(D)\n",
        "y_pred"
      ]
    },
    {
      "cell_type": "code",
      "execution_count": null,
      "metadata": {
        "id": "TOBWxBRhzFLh"
      },
      "outputs": [],
      "source": [
        "from sklearn import metrics"
      ]
    },
    {
      "cell_type": "code",
      "execution_count": null,
      "metadata": {
        "colab": {
          "base_uri": "https://localhost:8080/"
        },
        "id": "HCe930Eizef4",
        "outputId": "92f768a9-0b93-47d3-90ae-edb9b96950e2"
      },
      "outputs": [
        {
          "data": {
            "text/plain": [
              "215684.08407857732"
            ]
          },
          "execution_count": 300,
          "metadata": {},
          "output_type": "execute_result"
        }
      ],
      "source": [
        "np.sqrt(metrics.mean_squared_error(test_y,y_pred))\n",
        "# metrics.mean_absolute_error(test_y,y_pred)\n",
        "# metrics.r2_score(test_y,y_pred)"
      ]
    },
    {
      "cell_type": "code",
      "execution_count": null,
      "metadata": {
        "colab": {
          "base_uri": "https://localhost:8080/",
          "height": 363
        },
        "id": "u9RxGPGCx_Dr",
        "outputId": "50eb85e7-6d89-4cb5-acb4-6e849cb7d36b"
      },
      "outputs": [
        {
          "name": "stderr",
          "output_type": "stream",
          "text": [
            "/usr/local/lib/python3.7/dist-packages/seaborn/distributions.py:2619: FutureWarning: `distplot` is a deprecated function and will be removed in a future version. Please adapt your code to use either `displot` (a figure-level function with similar flexibility) or `histplot` (an axes-level function for histograms).\n",
            "  warnings.warn(msg, FutureWarning)\n"
          ]
        },
        {
          "data": {
            "text/plain": [
              "<matplotlib.axes._subplots.AxesSubplot at 0x7f482bbee590>"
            ]
          },
          "execution_count": 301,
          "metadata": {},
          "output_type": "execute_result"
        },
        {
          "data": {
            "image/png": "[encoded data removed]",
            "text/plain": [
              "<Figure size 432x288 with 1 Axes>"
            ]
          },
          "metadata": {},
          "output_type": "display_data"
        }
      ],
      "source": [
        "sns.distplot((test_y-y_pred))"
      ]
    },
    {
      "cell_type": "code",
      "execution_count": null,
      "metadata": {
        "colab": {
          "base_uri": "https://localhost:8080/",
          "height": 364
        },
        "id": "nCh8CwgfycRQ",
        "outputId": "cdf500b7-e34a-47ee-90b5-538cb94a8a83"
      },
      "outputs": [
        {
          "name": "stderr",
          "output_type": "stream",
          "text": [
            "/usr/local/lib/python3.7/dist-packages/seaborn/_decorators.py:43: FutureWarning: Pass the following variables as keyword args: x, y. From version 0.12, the only valid positional argument will be `data`, and passing other arguments without an explicit keyword will result in an error or misinterpretation.\n",
            "  FutureWarning\n"
          ]
        },
        {
          "data": {
            "text/plain": [
              "<matplotlib.axes._subplots.AxesSubplot at 0x7f482bb3b090>"
            ]
          },
          "execution_count": 302,
          "metadata": {},
          "output_type": "execute_result"
        },
        {
          "data": {
            "image/png": "[encoded data removed]",
            "text/plain": [
              "<Figure size 432x288 with 1 Axes>"
            ]
          },
          "metadata": {},
          "output_type": "display_data"
        }
      ],
      "source": [
        "sns.scatterplot(test_y,y_pred)"
      ]
    },
    {
      "cell_type": "code",
      "execution_count": null,
      "metadata": {
        "id": "0Xr9jn6bqFij"
      },
      "outputs": [],
      "source": [
        "from sklearn.metrics import r2_score"
      ]
    },
    {
      "cell_type": "code",
      "execution_count": null,
      "metadata": {
        "colab": {
          "base_uri": "https://localhost:8080/"
        },
        "id": "fVJJi0l9pw5V",
        "outputId": "40bf8948-1650-495c-d48a-b96bd966750e"
      },
      "outputs": [
        {
          "data": {
            "text/plain": [
              "0.6058003868476052"
            ]
          },
          "execution_count": 304,
          "metadata": {},
          "output_type": "execute_result"
        }
      ],
      "source": [
        "r2_score(test_y,y_pred)"
      ]
    },
    {
      "cell_type": "code",
      "execution_count": null,
      "metadata": {
        "id": "oGA3XB2JqGIA"
      },
      "outputs": [],
      "source": []
    },
    {
      "cell_type": "code",
      "execution_count": null,
      "metadata": {
        "id": "6o6xJS1zrQza"
      },
      "outputs": [],
      "source": []
    },
    {
      "cell_type": "markdown",
      "metadata": {
        "id": "k13EV8LsrRyV"
      },
      "source": [
        "***Question 2***"
      ]
    },
    {
      "cell_type": "code",
      "execution_count": null,
      "metadata": {
        "colab": {
          "base_uri": "https://localhost:8080/"
        },
        "id": "jQgaO3-hrVKw",
        "outputId": "83801740-4588-4b41-98a2-def6709b2946"
      },
      "outputs": [
        {
          "data": {
            "text/plain": [
              "Index(['Income', 'Age', 'Rooms', 'Bedrooms', 'Population', 'Price'], dtype='object')"
            ]
          },
          "execution_count": 305,
          "metadata": {},
          "output_type": "execute_result"
        }
      ],
      "source": [
        "df.columns"
      ]
    },
    {
      "cell_type": "code",
      "execution_count": null,
      "metadata": {
        "id": "7DozZB4X0-7J"
      },
      "outputs": [],
      "source": [
        "B = np.zeros(6)\n",
        "iteration = 1000\n",
        "learning_rate = 0.01"
      ]
    },
    {
      "cell_type": "code",
      "execution_count": null,
      "metadata": {
        "id": "hV4qJslZ3MrI"
      },
      "outputs": [],
      "source": [
        "train_x,test_x,train_y,test_y = train_test_split(x,y,test_size=0.3,random_state=42)"
      ]
    },
    {
      "cell_type": "code",
      "execution_count": null,
      "metadata": {
        "id": "TELu2KxAP60K"
      },
      "outputs": [],
      "source": [
        "train_x = train_x.reset_index(drop = True)\n",
        "train_y = train_y.reset_index(drop = True)\n",
        "test_x = test_x.reset_index(drop = True)\n",
        "test_y = test_y.reset_index(drop = True)"
      ]
    },
    {
      "cell_type": "code",
      "execution_count": null,
      "metadata": {
        "id": "dNP3kbqL8vei"
      },
      "outputs": [],
      "source": [
        "train_x.columns = [0,1,2,3,4]"
      ]
    },
    {
      "cell_type": "code",
      "execution_count": null,
      "metadata": {
        "colab": {
          "base_uri": "https://localhost:8080/",
          "height": 424
        },
        "id": "ihpkX3Cc9yOK",
        "outputId": "7261e12a-ba51-4ed5-f547-0e05f9da4090"
      },
      "outputs": [
        {
          "data": {
            "text/html": [
              "\n",
              "  <div id=\"df-a1c67ef6-8723-4d3d-b621-dd84a9a110c8\">\n",
              "    <div class=\"colab-df-container\">\n",
              "      <div>\n",
              "<style scoped>\n",
              "    .dataframe tbody tr th:only-of-type {\n",
              "        vertical-align: middle;\n",
              "    }\n",
              "\n",
              "    .dataframe tbody tr th {\n",
              "        vertical-align: top;\n",
              "    }\n",
              "\n",
              "    .dataframe thead th {\n",
              "        text-align: right;\n",
              "    }\n",
              "</style>\n",
              "<table border=\"1\" class=\"dataframe\">\n",
              "  <thead>\n",
              "    <tr style=\"text-align: right;\">\n",
              "      <th></th>\n",
              "      <th>0</th>\n",
              "      <th>1</th>\n",
              "      <th>2</th>\n",
              "      <th>3</th>\n",
              "      <th>4</th>\n",
              "    </tr>\n",
              "  </thead>\n",
              "  <tbody>\n",
              "    <tr>\n",
              "      <th>0</th>\n",
              "      <td>0.416536</td>\n",
              "      <td>3.965745</td>\n",
              "      <td>0.760948</td>\n",
              "      <td>0.528889</td>\n",
              "      <td>0.624707</td>\n",
              "    </tr>\n",
              "    <tr>\n",
              "      <th>1</th>\n",
              "      <td>0.495066</td>\n",
              "      <td>6.490769</td>\n",
              "      <td>0.586327</td>\n",
              "      <td>0.264444</td>\n",
              "      <td>0.675228</td>\n",
              "    </tr>\n",
              "    <tr>\n",
              "      <th>2</th>\n",
              "      <td>0.662352</td>\n",
              "      <td>5.407515</td>\n",
              "      <td>0.665522</td>\n",
              "      <td>0.246667</td>\n",
              "      <td>0.382068</td>\n",
              "    </tr>\n",
              "    <tr>\n",
              "      <th>3</th>\n",
              "      <td>0.534447</td>\n",
              "      <td>6.385374</td>\n",
              "      <td>0.474246</td>\n",
              "      <td>0.262222</td>\n",
              "      <td>0.403774</td>\n",
              "    </tr>\n",
              "    <tr>\n",
              "      <th>4</th>\n",
              "      <td>0.573429</td>\n",
              "      <td>6.910415</td>\n",
              "      <td>0.671486</td>\n",
              "      <td>0.508889</td>\n",
              "      <td>0.527097</td>\n",
              "    </tr>\n",
              "    <tr>\n",
              "      <th>...</th>\n",
              "      <td>...</td>\n",
              "      <td>...</td>\n",
              "      <td>...</td>\n",
              "      <td>...</td>\n",
              "      <td>...</td>\n",
              "    </tr>\n",
              "    <tr>\n",
              "      <th>3495</th>\n",
              "      <td>0.649873</td>\n",
              "      <td>6.371627</td>\n",
              "      <td>0.279930</td>\n",
              "      <td>0.093333</td>\n",
              "      <td>0.431866</td>\n",
              "    </tr>\n",
              "    <tr>\n",
              "      <th>3496</th>\n",
              "      <td>0.432549</td>\n",
              "      <td>6.958045</td>\n",
              "      <td>0.567021</td>\n",
              "      <td>0.306667</td>\n",
              "      <td>0.621312</td>\n",
              "    </tr>\n",
              "    <tr>\n",
              "      <th>3497</th>\n",
              "      <td>0.538331</td>\n",
              "      <td>6.507971</td>\n",
              "      <td>0.448689</td>\n",
              "      <td>0.253333</td>\n",
              "      <td>0.534439</td>\n",
              "    </tr>\n",
              "    <tr>\n",
              "      <th>3498</th>\n",
              "      <td>0.454901</td>\n",
              "      <td>7.394768</td>\n",
              "      <td>0.801933</td>\n",
              "      <td>0.515556</td>\n",
              "      <td>0.716904</td>\n",
              "    </tr>\n",
              "    <tr>\n",
              "      <th>3499</th>\n",
              "      <td>0.482352</td>\n",
              "      <td>5.896316</td>\n",
              "      <td>0.617318</td>\n",
              "      <td>0.897778</td>\n",
              "      <td>0.516365</td>\n",
              "    </tr>\n",
              "  </tbody>\n",
              "</table>\n",
              "<p>3500 rows × 5 columns</p>\n",
              "</div>\n",
              "      <button class=\"colab-df-convert\" onclick=\"convertToInteractive('df-a1c67ef6-8723-4d3d-b621-dd84a9a110c8')\"\n",
              "              title=\"Convert this dataframe to an interactive table.\"\n",
              "              style=\"display:none;\">\n",
              "        \n",
              "  <svg xmlns=\"http://www.w3.org/2000/svg\" height=\"24px\"viewBox=\"0 0 24 24\"\n",
              "       width=\"24px\">\n",
              "    <path d=\"M0 0h24v24H0V0z\" fill=\"none\"/>\n",
              "    <path d=\"M18.56 5.44l.94 2.06.94-2.06 2.06-.94-2.06-.94-.94-2.06-.94 2.06-2.06.94zm-11 1L8.5 8.5l.94-2.06 2.06-.94-2.06-.94L8.5 2.5l-.94 2.06-2.06.94zm10 10l.94 2.06.94-2.06 2.06-.94-2.06-.94-.94-2.06-.94 2.06-2.06.94z\"/><path d=\"M17.41 7.96l-1.37-1.37c-.4-.4-.92-.59-1.43-.59-.52 0-1.04.2-1.43.59L10.3 9.45l-7.72 7.72c-.78.78-.78 2.05 0 2.83L4 21.41c.39.39.9.59 1.41.59.51 0 1.02-.2 1.41-.59l7.78-7.78 2.81-2.81c.8-.78.8-2.07 0-2.86zM5.41 20L4 18.59l7.72-7.72 1.47 1.35L5.41 20z\"/>\n",
              "  </svg>\n",
              "      </button>\n",
              "      \n",
              "  <style>\n",
              "    .colab-df-container {\n",
              "      display:flex;\n",
              "      flex-wrap:wrap;\n",
              "      gap: 12px;\n",
              "    }\n",
              "\n",
              "    .colab-df-convert {\n",
              "      background-color: #E8F0FE;\n",
              "      border: none;\n",
              "      border-radius: 50%;\n",
              "      cursor: pointer;\n",
              "      display: none;\n",
              "      fill: #1967D2;\n",
              "      height: 32px;\n",
              "      padding: 0 0 0 0;\n",
              "      width: 32px;\n",
              "    }\n",
              "\n",
              "    .colab-df-convert:hover {\n",
              "      background-color: #E2EBFA;\n",
              "      box-shadow: 0px 1px 2px rgba(60, 64, 67, 0.3), 0px 1px 3px 1px rgba(60, 64, 67, 0.15);\n",
              "      fill: #174EA6;\n",
              "    }\n",
              "\n",
              "    [theme=dark] .colab-df-convert {\n",
              "      background-color: #3B4455;\n",
              "      fill: #D2E3FC;\n",
              "    }\n",
              "\n",
              "    [theme=dark] .colab-df-convert:hover {\n",
              "      background-color: #434B5C;\n",
              "      box-shadow: 0px 1px 3px 1px rgba(0, 0, 0, 0.15);\n",
              "      filter: drop-shadow(0px 1px 2px rgba(0, 0, 0, 0.3));\n",
              "      fill: #FFFFFF;\n",
              "    }\n",
              "  </style>\n",
              "\n",
              "      <script>\n",
              "        const buttonEl =\n",
              "          document.querySelector('#df-a1c67ef6-8723-4d3d-b621-dd84a9a110c8 button.colab-df-convert');\n",
              "        buttonEl.style.display =\n",
              "          google.colab.kernel.accessAllowed ? 'block' : 'none';\n",
              "\n",
              "        async function convertToInteractive(key) {\n",
              "          const element = document.querySelector('#df-a1c67ef6-8723-4d3d-b621-dd84a9a110c8');\n",
              "          const dataTable =\n",
              "            await google.colab.kernel.invokeFunction('convertToInteractive',\n",
              "                                                     [key], {});\n",
              "          if (!dataTable) return;\n",
              "\n",
              "          const docLinkHtml = 'Like what you see? Visit the ' +\n",
              "            '<a target=\"_blank\" href=https://colab.research.google.com/notebooks/data_table.ipynb>data table notebook</a>'\n",
              "            + ' to learn more about interactive tables.';\n",
              "          element.innerHTML = '';\n",
              "          dataTable['output_type'] = 'display_data';\n",
              "          await google.colab.output.renderOutput(dataTable, element);\n",
              "          const docLink = document.createElement('div');\n",
              "          docLink.innerHTML = docLinkHtml;\n",
              "          element.appendChild(docLink);\n",
              "        }\n",
              "      </script>\n",
              "    </div>\n",
              "  </div>\n",
              "  "
            ],
            "text/plain": [
              "             0         1         2         3         4\n",
              "0     0.416536  3.965745  0.760948  0.528889  0.624707\n",
              "1     0.495066  6.490769  0.586327  0.264444  0.675228\n",
              "2     0.662352  5.407515  0.665522  0.246667  0.382068\n",
              "3     0.534447  6.385374  0.474246  0.262222  0.403774\n",
              "4     0.573429  6.910415  0.671486  0.508889  0.527097\n",
              "...        ...       ...       ...       ...       ...\n",
              "3495  0.649873  6.371627  0.279930  0.093333  0.431866\n",
              "3496  0.432549  6.958045  0.567021  0.306667  0.621312\n",
              "3497  0.538331  6.507971  0.448689  0.253333  0.534439\n",
              "3498  0.454901  7.394768  0.801933  0.515556  0.716904\n",
              "3499  0.482352  5.896316  0.617318  0.897778  0.516365\n",
              "\n",
              "[3500 rows x 5 columns]"
            ]
          },
          "execution_count": 310,
          "metadata": {},
          "output_type": "execute_result"
        }
      ],
      "source": [
        "train_x"
      ]
    },
    {
      "cell_type": "code",
      "execution_count": null,
      "metadata": {
        "colab": {
          "base_uri": "https://localhost:8080/"
        },
        "id": "oBnyy7gs90Rb",
        "outputId": "4423fc2c-e837-4040-d435-8f5b7791a3b2"
      },
      "outputs": [
        {
          "data": {
            "text/plain": [
              "0.4823524000164084"
            ]
          },
          "execution_count": 311,
          "metadata": {},
          "output_type": "execute_result"
        }
      ],
      "source": [
        "train_x.loc[3499,0]"
      ]
    },
    {
      "cell_type": "code",
      "execution_count": null,
      "metadata": {
        "colab": {
          "base_uri": "https://localhost:8080/"
        },
        "id": "QgnK38vzDGz4",
        "outputId": "ed5583e5-1450-4d56-baac-13aa401a0ed1"
      },
      "outputs": [
        {
          "data": {
            "text/plain": [
              "0       8.814461e+05\n",
              "1       1.375771e+06\n",
              "2       1.137069e+06\n",
              "3       9.289500e+05\n",
              "4       1.392084e+06\n",
              "            ...     \n",
              "3495    1.023944e+06\n",
              "3496    1.223101e+06\n",
              "3497    1.318598e+06\n",
              "3498    1.708631e+06\n",
              "3499    1.060898e+06\n",
              "Name: Price, Length: 3500, dtype: float64"
            ]
          },
          "execution_count": 312,
          "metadata": {},
          "output_type": "execute_result"
        }
      ],
      "source": [
        "train_y"
      ]
    },
    {
      "cell_type": "code",
      "execution_count": null,
      "metadata": {
        "id": "M_8p4kQeAkDn"
      },
      "outputs": [],
      "source": [
        "n = len(train_x)"
      ]
    },
    {
      "cell_type": "code",
      "execution_count": null,
      "metadata": {
        "colab": {
          "background_save": true,
          "base_uri": "https://localhost:8080/"
        },
        "id": "74jEgwgv1UCE",
        "outputId": "6704e95f-4ebb-44b1-9986-2399be4c0548"
      },
      "outputs": [
        {
          "name": "stdout",
          "output_type": "stream",
          "text": [
            "[1.22821915e+04 7.21421978e+03 7.49719665e+04 6.28184099e+03\n",
            " 5.59178545e+03 1.63599281e+10]\n",
            "[1.98675291e+04 1.17732874e+04 1.21160339e+05 1.02219919e+04\n",
            " 9.10702043e+03 2.68254337e+10]\n",
            "[2.45577594e+04 1.46957216e+04 1.49606940e+05 1.27187174e+04\n",
            " 1.13422213e+04 3.36576437e+10]\n",
            "[2.74634528e+04 1.66093224e+04 1.67117790e+05 1.43256949e+04\n",
            " 1.27883493e+04 3.82502838e+10]\n",
            "[2.92691486e+04 1.79010568e+04 1.77888020e+05 1.53842030e+04\n",
            " 1.37480259e+04 4.14624264e+10]\n",
            "[3.03967870e+04 1.88094455e+04 1.84503448e+05 1.61046010e+04\n",
            " 1.44077825e+04 4.38235913e+10]\n",
            "[3.11064459e+04 1.94815093e+04 1.88557935e+05 1.66165513e+04\n",
            " 1.48825945e+04 4.56601667e+10]\n",
            "[3.15584334e+04 2.00078696e+04 1.91033912e+05 1.69999759e+04\n",
            " 1.52433311e+04 4.71733336e+10]\n",
            "[3.18515614e+04 2.04443843e+04 1.92536938e+05 1.73041376e+04\n",
            " 1.55336753e+04 4.84870971e+10]\n",
            "[3.20467357e+04 2.08254833e+04 1.93440268e+05 1.75594015e+04\n",
            " 1.57805526e+04 4.96778923e+10]\n",
            "[3.21814982e+04 2.11723887e+04 1.93973973e+05 1.77844840e+04\n",
            " 1.60005594e+04 5.07928325e+10]\n",
            "[3.22789890e+04 2.14981815e+04 1.94279864e+05 1.79909218e+04\n",
            " 1.62039259e+04 5.18609579e+10]\n",
            "[3.23534713e+04 2.18109249e+04 1.94445351e+05 1.81858259e+04\n",
            " 1.63969577e+04 5.29001683e+10]\n",
            "[3.24137370e+04 2.21155885e+04 1.94524314e+05 1.83735795e+04\n",
            " 1.65835416e+04 5.39214970e+10]\n",
            "[3.24652050e+04 2.24152360e+04 1.94549963e+05 1.85568844e+04\n",
            " 1.67660734e+04 5.49317447e+10]\n",
            "[3.25112156e+04 2.27117555e+04 1.94542767e+05 1.87374059e+04\n",
            " 1.69460301e+04 5.59351036e+10]\n",
            "[3.25538279e+04 2.30063110e+04 1.94515344e+05 1.89161706e+04\n",
            " 1.71243219e+04 5.69341573e+10]\n",
            "[3.25943109e+04 2.32996199e+04 1.94475472e+05 1.90938111e+04\n",
            " 1.73015102e+04 5.79304987e+10]\n",
            "[3.26334470e+04 2.35921245e+04 1.94427944e+05 1.92707177e+04\n",
            " 1.74779408e+04 5.89251095e+10]\n",
            "[3.26717182e+04 2.38840973e+04 1.94375714e+05 1.94471308e+04\n",
            " 1.76538272e+04 5.99185948e+10]\n",
            "[3.27094220e+04 2.41757065e+04 1.94320605e+05 1.96231986e+04\n",
            " 1.78293010e+04 6.09113278e+10]\n",
            "[3.27467416e+04 2.44670555e+04 1.94263739e+05 1.97990126e+04\n",
            " 1.80044433e+04 6.19035383e+10]\n",
            "[3.27837898e+04 2.47582084e+04 1.94205807e+05 1.99746291e+04\n",
            " 1.81793042e+04 6.28953682e+10]\n",
            "[3.28206365e+04 2.50492045e+04 1.94147236e+05 2.01500829e+04\n",
            " 1.83539147e+04 6.38869050e+10]\n",
            "[3.28573246e+04 2.53400681e+04 1.94088289e+05 2.03253955e+04\n",
            " 1.85282939e+04 6.48782024e+10]\n",
            "[3.28938805e+04 2.56308142e+04 1.94029129e+05 2.05005801e+04\n",
            " 1.87024539e+04 6.58692939e+10]\n",
            "[3.29303207e+04 2.59214522e+04 1.93969854e+05 2.06756451e+04\n",
            " 1.88764018e+04 6.68601999e+10]\n",
            "[3.29666553e+04 2.62119876e+04 1.93910526e+05 2.08505954e+04\n",
            " 1.90501425e+04 6.78509332e+10]\n",
            "[3.30028905e+04 2.65024241e+04 1.93851184e+05 2.10254343e+04\n",
            " 1.92236788e+04 6.88415016e+10]\n",
            "[3.30390303e+04 2.67927639e+04 1.93791851e+05 2.12001637e+04\n",
            " 1.93970126e+04 6.98319099e+10]\n",
            "[3.30750769e+04 2.70830083e+04 1.93732541e+05 2.13747849e+04\n",
            " 1.95701451e+04 7.08221613e+10]\n",
            "[3.31110321e+04 2.73731583e+04 1.93673262e+05 2.15492987e+04\n",
            " 1.97430773e+04 7.18122577e+10]\n",
            "[3.31468966e+04 2.76632144e+04 1.93614021e+05 2.17237057e+04\n",
            " 1.99158096e+04 7.28022001e+10]\n",
            "[3.31826712e+04 2.79531770e+04 1.93554820e+05 2.18980062e+04\n",
            " 2.00883425e+04 7.37919895e+10]\n",
            "[3.32183562e+04 2.82430462e+04 1.93495663e+05 2.20722004e+04\n",
            " 2.02606765e+04 7.47816264e+10]\n",
            "[3.32539520e+04 2.85328224e+04 1.93436549e+05 2.22462886e+04\n",
            " 2.04328116e+04 7.57711110e+10]\n",
            "[3.32894587e+04 2.88225056e+04 1.93377480e+05 2.24202710e+04\n",
            " 2.06047483e+04 7.67604436e+10]\n",
            "[3.33248765e+04 2.91120958e+04 1.93318456e+05 2.25941476e+04\n",
            " 2.07764867e+04 7.77496245e+10]\n",
            "[3.33602055e+04 2.94015933e+04 1.93259477e+05 2.27679185e+04\n",
            " 2.09480270e+04 7.87386538e+10]\n",
            "[3.33954458e+04 2.96909980e+04 1.93200544e+05 2.29415839e+04\n",
            " 2.11193695e+04 7.97275316e+10]\n",
            "[3.34305974e+04 2.99803101e+04 1.93141657e+05 2.31151438e+04\n",
            " 2.12905144e+04 8.07162579e+10]\n",
            "[3.34656605e+04 3.02695295e+04 1.93082815e+05 2.32885984e+04\n",
            " 2.14614619e+04 8.17048330e+10]\n",
            "[3.35006351e+04 3.05586564e+04 1.93024019e+05 2.34619477e+04\n",
            " 2.16322121e+04 8.26932569e+10]\n",
            "[3.35355214e+04 3.08476908e+04 1.92965269e+05 2.36351918e+04\n",
            " 2.18027653e+04 8.36815297e+10]\n",
            "[3.35703193e+04 3.11366327e+04 1.92906565e+05 2.38083309e+04\n",
            " 2.19731216e+04 8.46696515e+10]\n",
            "[3.36050290e+04 3.14254822e+04 1.92847906e+05 2.39813650e+04\n",
            " 2.21432813e+04 8.56576224e+10]\n",
            "[3.36396505e+04 3.17142394e+04 1.92789292e+05 2.41542941e+04\n",
            " 2.23132445e+04 8.66454425e+10]\n",
            "[3.36741839e+04 3.20029043e+04 1.92730725e+05 2.43271184e+04\n",
            " 2.24830115e+04 8.76331118e+10]\n",
            "[3.37086292e+04 3.22914770e+04 1.92672202e+05 2.44998380e+04\n",
            " 2.26525824e+04 8.86206305e+10]\n",
            "[3.37429866e+04 3.25799575e+04 1.92613726e+05 2.46724530e+04\n",
            " 2.28219574e+04 8.96079986e+10]\n"
          ]
        }
      ],
      "source": [
        "beta=np.zeros(6)\n",
        "number_of_iterations=50\n",
        "learning_rate=0.01\n",
        "for i in range(number_of_iterations):\n",
        "    x0_gradient=0\n",
        "    x1_gradient=0\n",
        "    x2_gradient=0\n",
        "    x3_gradient=0\n",
        "    x4_gradient=0\n",
        "    x5_gradient=0    \n",
        "    for j in range(0,len(train_x)):\n",
        "        # print(\"RUNNING\",j)\n",
        "        x1=train_x.loc[j][0]\n",
        "        x2=train_x.loc[j][1]\n",
        "        x3=train_x.loc[j][2]\n",
        "        x4=train_x.loc[j][3]\n",
        "        x5=train_y.loc[j] \n",
        "        x0_gradient+=(beta[0]+(beta[1]* x1)+(beta[2]*x2)+(beta[3]*x3)+(beta[4]*x4)-x5)\n",
        "        x1_gradient+=((beta[0]+(beta[1]*x1)+(beta[2]*x2)+(beta[3]*x3)+(beta[4]*x4)-x5)*x1)\n",
        "        x2_gradient+=((beta[0]+(beta[1]*x1)+(beta[2]*x2)+(beta[3]*x3)+(beta[4]*x4)-x5)*x2)\n",
        "        x3_gradient+=((beta[0]+(beta[1]*x1)+(beta[2]*x2)+(beta[3]*x3)+(beta[4]*x4)-x5)*x3)\n",
        "        x4_gradient+=((beta[0]+(beta[1]*x1)+(beta[2]*x2)+(beta[3]*x3)+(beta[4]*x4)-x5)*x4)\n",
        "        x5_gradient+=((beta[0]+(beta[1]*x1)+(beta[2]*x2)+(beta[3]*x3)+(beta[4]*x4)-x5)*x5)\n",
        "\n",
        "    beta[0]=beta[0]-learning_rate/n*x0_gradient\n",
        "    beta[1]=beta[1]-learning_rate/n*x1_gradient\n",
        "    beta[2]=beta[2]-learning_rate/n*x2_gradient\n",
        "    beta[3]=beta[3]-learning_rate/n*x3_gradient\n",
        "    beta[4]=beta[4]-learning_rate/n*x4_gradient\n",
        "    beta[5]=beta[5]-learning_rate/n*x5_gradient\n",
        "    print(beta)\n"
      ]
    },
    {
      "cell_type": "code",
      "execution_count": null,
      "metadata": {
        "id": "sQowle3eKstH"
      },
      "outputs": [],
      "source": [
        "test_x.insert(loc = 0,\n",
        "          column = 'Extra',\n",
        "          value = 1)"
      ]
    },
    {
      "cell_type": "code",
      "execution_count": null,
      "metadata": {
        "id": "dtYy7P5jNnJI"
      },
      "outputs": [],
      "source": [
        "test_x"
      ]
    },
    {
      "cell_type": "code",
      "execution_count": null,
      "metadata": {
        "id": "mk3lB2ce3zNy"
      },
      "outputs": [],
      "source": [
        "beta = [1.23e+06, 2.36167480e+05, 1.66809624e+05, 1.04642130e+05,\n",
        " 2.01849346e+01, 1.4902858201e+05]\n"
      ]
    },
    {
      "cell_type": "code",
      "execution_count": null,
      "metadata": {
        "id": "XuZKpPYKJ3cD"
      },
      "outputs": [],
      "source": [
        "output = test_x.dot(beta)\n",
        "output[1]"
      ]
    },
    {
      "cell_type": "code",
      "execution_count": null,
      "metadata": {
        "id": "Zw8YpulyN0NH"
      },
      "outputs": [],
      "source": [
        "test_y[1]"
      ]
    },
    {
      "cell_type": "code",
      "execution_count": null,
      "metadata": {
        "id": "hw3DrM40OQbF"
      },
      "outputs": [],
      "source": [
        "from sklearn import metrics\n",
        "print(metrics.r2_score(output,test_y))"
      ]
    },
    {
      "cell_type": "markdown",
      "source": [
        "**Submitted by Lakshay Singla**"
      ],
      "metadata": {
        "id": "AjPq2H9ennBb"
      }
    }
  ],
  "metadata": {
    "colab": {
      "collapsed_sections": [],
      "provenance": [],
      "authorship_tag": "ABX9TyOm0volxR4M/L/gvYGJ8lKT",
      "include_colab_link": true
    },
    "kernelspec": {
      "display_name": "Python 3",
      "name": "python3"
    },
    "language_info": {
      "name": "python"
    }
  },
  "nbformat": 4,
  "nbformat_minor": 0
}